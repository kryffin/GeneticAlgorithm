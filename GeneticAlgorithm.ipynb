{
 "cells": [
  {
   "cell_type": "code",
   "execution_count": 1,
   "id": "659d87fc",
   "metadata": {},
   "outputs": [],
   "source": [
    "import numpy as np, random, operator, pandas as pd, matplotlib.pyplot as plt"
   ]
  },
  {
   "cell_type": "markdown",
   "id": "a68741c0",
   "metadata": {},
   "source": [
    "**Classe Ville :**  \n",
    "Représentée par une position (x, y).  \n",
    "*distance* : distance euclidienne de la ville a une autre."
   ]
  },
  {
   "cell_type": "code",
   "execution_count": 2,
   "id": "124b9fa8",
   "metadata": {},
   "outputs": [],
   "source": [
    "class City:\n",
    "    def __init__(self, x, y):\n",
    "        self.x = x\n",
    "        self.y = y\n",
    "    \n",
    "    def distance(self, city):\n",
    "        xDis = abs(self.x - city.x)\n",
    "        yDis = abs(self.y - city.y)\n",
    "        distance = np.sqrt((xDis ** 2) + (yDis ** 2))\n",
    "        return distance\n",
    "    \n",
    "    def __repr__(self):\n",
    "        return \"(\" + str(self.x) + \",\" + str(self.y) + \")\""
   ]
  },
  {
   "cell_type": "markdown",
   "id": "04d88710",
   "metadata": {},
   "source": [
    "**Classe Fitness :**  \n",
    "Représentée par une route (ville -> ville), une distance et un score de fitness.  \n",
    "*routeDistance* : calcule (si pas déjà fait) et renvoie la distance d'une ville à une autre (contenues dans la variable route).  \n",
    "*routeFitness* : calcule (si pas déjà fait) et renvoie le score de fitness de la route."
   ]
  },
  {
   "cell_type": "code",
   "execution_count": 3,
   "id": "0d0e0106",
   "metadata": {},
   "outputs": [],
   "source": [
    "class Fitness:\n",
    "    def __init__(self, route):\n",
    "        self.route = route\n",
    "        self.distance = 0\n",
    "        self.fitness = 0.0\n",
    "    \n",
    "    def routeDistance(self):\n",
    "        if self.distance == 0:\n",
    "            pathDistance = 0\n",
    "            for i in range(0, len(self.route)):\n",
    "                fromCity = self.route[i]\n",
    "                toCity = None\n",
    "                if i + 1 < len(self.route):\n",
    "                    toCity = self.route[i + 1]\n",
    "                else:\n",
    "                    toCity = self.route[0]\n",
    "                pathDistance += fromCity.distance(toCity)\n",
    "            self.distance = pathDistance\n",
    "        return self.distance\n",
    "    \n",
    "    def routeFitness(self):\n",
    "        if self.fitness == 0:\n",
    "            self.fitness = 1 / float(self.routeDistance())\n",
    "        return self.fitness"
   ]
  },
  {
   "cell_type": "markdown",
   "id": "69993eb1",
   "metadata": {},
   "source": [
    "*createRoute* : création d'une route entre deux villes choisies aléatoirement dans la liste des villes."
   ]
  },
  {
   "cell_type": "code",
   "execution_count": 4,
   "id": "d9ea05a9",
   "metadata": {},
   "outputs": [],
   "source": [
    "def createRoute(cityList):\n",
    "    route = random.sample(cityList, len(cityList))\n",
    "    return route"
   ]
  },
  {
   "cell_type": "markdown",
   "id": "dba73e37",
   "metadata": {},
   "source": [
    "*initialPopulation* : création de la première volée d'agents avec une route initialement aléatoire."
   ]
  },
  {
   "cell_type": "code",
   "execution_count": 5,
   "id": "40390e4f",
   "metadata": {},
   "outputs": [],
   "source": [
    "def initialPopulation(popSize, cityList):\n",
    "    population = []\n",
    "\n",
    "    for i in range(0, popSize):\n",
    "        population.append(createRoute(cityList))\n",
    "    return population"
   ]
  },
  {
   "cell_type": "markdown",
   "id": "fc5d0435",
   "metadata": {},
   "source": [
    "*rankRoutes* : calcule le score de fitness des agents et trie le score par fitness en ordre décroissant."
   ]
  },
  {
   "cell_type": "code",
   "execution_count": 6,
   "id": "db8ba403",
   "metadata": {},
   "outputs": [],
   "source": [
    "def rankRoutes(population):\n",
    "    fitnessResults = {}\n",
    "    for i in range(0,len(population)):\n",
    "        fitnessResults[i] = Fitness(population[i]).routeFitness()\n",
    "    return sorted(fitnessResults.items(), key = operator.itemgetter(1), reverse = True)"
   ]
  },
  {
   "cell_type": "markdown",
   "id": "9c6b891e",
   "metadata": {},
   "source": [
    "*selection* : sélection élitiste, on garde un certain nombre des agents qui possèdent le chemin le plus court."
   ]
  },
  {
   "cell_type": "code",
   "execution_count": 7,
   "id": "73438904",
   "metadata": {},
   "outputs": [],
   "source": [
    "def selection(popRanked, eliteSize):\n",
    "    selectionResults = []\n",
    "    df = pd.DataFrame(np.array(popRanked), columns=[\"Index\",\"Fitness\"])\n",
    "    df['cum_sum'] = df.Fitness.cumsum()\n",
    "    df['cum_perc'] = 100*df.cum_sum/df.Fitness.sum()\n",
    "    \n",
    "    for i in range(0, eliteSize):\n",
    "        selectionResults.append(popRanked[i][0])\n",
    "    for i in range(0, len(popRanked) - eliteSize):\n",
    "        pick = 100*random.random()\n",
    "        for i in range(0, len(popRanked)):\n",
    "            if pick <= df.iat[i,3]:\n",
    "                selectionResults.append(popRanked[i][0])\n",
    "                break\n",
    "    return selectionResults"
   ]
  },
  {
   "cell_type": "markdown",
   "id": "7dc01f4d",
   "metadata": {},
   "source": [
    "*matingPool* : création d'une pool contenant les agents \"élites\", les agents ayant eu le plus grand score de fitness."
   ]
  },
  {
   "cell_type": "code",
   "execution_count": 8,
   "id": "04bd7f5c",
   "metadata": {},
   "outputs": [],
   "source": [
    "def matingPool(population, selectionResults):\n",
    "    matingpool = []\n",
    "    for i in range(0, len(selectionResults)):\n",
    "        index = selectionResults[i]\n",
    "        matingpool.append(population[index])\n",
    "    return matingpool"
   ]
  },
  {
   "cell_type": "markdown",
   "id": "70731b56",
   "metadata": {},
   "source": [
    "*breed* : croisement entre deux agents qu'on appelera \"parents\" pour créer un fils."
   ]
  },
  {
   "cell_type": "code",
   "execution_count": 9,
   "id": "5139c6e6",
   "metadata": {},
   "outputs": [],
   "source": [
    "def breed(parent1, parent2):\n",
    "    child = []\n",
    "    childP1 = []\n",
    "    childP2 = []\n",
    "    \n",
    "    geneA = int(random.random() * len(parent1))\n",
    "    geneB = int(random.random() * len(parent1))\n",
    "    \n",
    "    startGene = min(geneA, geneB)\n",
    "    endGene = max(geneA, geneB)\n",
    "\n",
    "    for i in range(startGene, endGene):\n",
    "        childP1.append(parent1[i])\n",
    "        \n",
    "    childP2 = [item for item in parent2 if item not in childP1]\n",
    "\n",
    "    child = childP1 + childP2\n",
    "    return child"
   ]
  },
  {
   "cell_type": "markdown",
   "id": "4a404bae",
   "metadata": {},
   "source": [
    "*breedPopulation* : phase de croisement parmi les agents \"élites\"."
   ]
  },
  {
   "cell_type": "code",
   "execution_count": 10,
   "id": "d2aa9d67",
   "metadata": {},
   "outputs": [],
   "source": [
    "def breedPopulation(matingpool, eliteSize):\n",
    "    children = []\n",
    "    length = len(matingpool) - eliteSize\n",
    "    pool = random.sample(matingpool, len(matingpool))\n",
    "\n",
    "    for i in range(0,eliteSize):\n",
    "        children.append(matingpool[i])\n",
    "    \n",
    "    for i in range(0, length):\n",
    "        child = breed(pool[i], pool[len(matingpool)-i-1])\n",
    "        children.append(child)\n",
    "    return children"
   ]
  },
  {
   "cell_type": "markdown",
   "id": "cce2a41c",
   "metadata": {},
   "source": [
    "*mutate* : mutation d'un agent par rapport à une facteur."
   ]
  },
  {
   "cell_type": "code",
   "execution_count": 11,
   "id": "1e141dde",
   "metadata": {},
   "outputs": [],
   "source": [
    "def mutate(individual, mutationRate):\n",
    "    for swapped in range(len(individual)):\n",
    "        if(random.random() < mutationRate):\n",
    "            swapWith = int(random.random() * len(individual))\n",
    "            \n",
    "            city1 = individual[swapped]\n",
    "            city2 = individual[swapWith]\n",
    "            \n",
    "            individual[swapped] = city2\n",
    "            individual[swapWith] = city1\n",
    "    return individual"
   ]
  },
  {
   "cell_type": "markdown",
   "id": "fe5916b3",
   "metadata": {},
   "source": [
    "*mutatePopulation* : phase de mutation des agents."
   ]
  },
  {
   "cell_type": "code",
   "execution_count": 12,
   "id": "95585242",
   "metadata": {},
   "outputs": [],
   "source": [
    "def mutatePopulation(population, mutationRate):\n",
    "    mutatedPop = []\n",
    "    \n",
    "    for ind in range(0, len(population)):\n",
    "        mutatedInd = mutate(population[ind], mutationRate)\n",
    "        mutatedPop.append(mutatedInd)\n",
    "    return mutatedPop"
   ]
  },
  {
   "cell_type": "markdown",
   "id": "b3e75cbc",
   "metadata": {},
   "source": [
    "*nextGeneration* : mélange de toute les phases pour calculer la prochaine génération d'agents."
   ]
  },
  {
   "cell_type": "code",
   "execution_count": 13,
   "id": "1c04c3bc",
   "metadata": {},
   "outputs": [],
   "source": [
    "def nextGeneration(currentGen, eliteSize, mutationRate):\n",
    "    popRanked = rankRoutes(currentGen)\n",
    "    selectionResults = selection(popRanked, eliteSize)\n",
    "    matingpool = matingPool(currentGen, selectionResults)\n",
    "    children = breedPopulation(matingpool, eliteSize)\n",
    "    nextGeneration = mutatePopulation(children, mutationRate)\n",
    "    return nextGeneration"
   ]
  },
  {
   "cell_type": "markdown",
   "id": "db6e3e99",
   "metadata": {},
   "source": [
    "*geneticAlgorithm* : boucle principale de l'algorithme."
   ]
  },
  {
   "cell_type": "code",
   "execution_count": 14,
   "id": "ed66b23f",
   "metadata": {},
   "outputs": [],
   "source": [
    "def geneticAlgorithm(population, popSize, eliteSize, mutationRate, generations):\n",
    "    pop = initialPopulation(popSize, population)\n",
    "    print(\"Initial distance: \" + str(1 / rankRoutes(pop)[0][1]))\n",
    "    \n",
    "    for i in range(0, generations):\n",
    "        pop = nextGeneration(pop, eliteSize, mutationRate)\n",
    "    \n",
    "    print(\"Final distance: \" + str(1 / rankRoutes(pop)[0][1]))\n",
    "    bestRouteIndex = rankRoutes(pop)[0][0]\n",
    "    bestRoute = pop[bestRouteIndex]\n",
    "    return bestRoute"
   ]
  },
  {
   "cell_type": "markdown",
   "id": "29908fee",
   "metadata": {},
   "source": [
    "Création de la liste des villes, représentées par des coordonnées aléatoire sur 2 axes."
   ]
  },
  {
   "cell_type": "code",
   "execution_count": 15,
   "id": "576e7bf1",
   "metadata": {},
   "outputs": [],
   "source": [
    "cityList = []\n",
    "\n",
    "for i in range(0,25):\n",
    "    cityList.append(City(x=int(random.random() * 200), y=int(random.random() * 200)))"
   ]
  },
  {
   "cell_type": "markdown",
   "id": "ac790ac1",
   "metadata": {},
   "source": [
    "Lancement de l'algorithme. Le panel *Out* contient le meilleur chemin à l'issu de l'algorithme génétique, représenté sous forme de la liste des villes."
   ]
  },
  {
   "cell_type": "code",
   "execution_count": 16,
   "id": "e04c5433",
   "metadata": {},
   "outputs": [
    {
     "name": "stdout",
     "output_type": "stream",
     "text": [
      "Initial distance: 2276.317462183047\n",
      "Final distance: 946.6241551179615\n"
     ]
    },
    {
     "data": {
      "text/plain": [
       "[(12,150),\n",
       " (29,154),\n",
       " (30,139),\n",
       " (42,134),\n",
       " (65,133),\n",
       " (75,134),\n",
       " (138,186),\n",
       " (188,185),\n",
       " (159,177),\n",
       " (152,173),\n",
       " (133,139),\n",
       " (136,120),\n",
       " (93,88),\n",
       " (90,74),\n",
       " (72,86),\n",
       " (145,17),\n",
       " (166,17),\n",
       " (198,10),\n",
       " (155,42),\n",
       " (70,11),\n",
       " (53,12),\n",
       " (7,4),\n",
       " (47,39),\n",
       " (8,88),\n",
       " (0,148)]"
      ]
     },
     "execution_count": 16,
     "metadata": {},
     "output_type": "execute_result"
    }
   ],
   "source": [
    "geneticAlgorithm(population=cityList, popSize=100, eliteSize=20, mutationRate=0.01, generations=500)"
   ]
  },
  {
   "cell_type": "markdown",
   "id": "9cc029fe",
   "metadata": {},
   "source": [
    "*geneticAlgorithmPlot* : création d'un plot pour afficher la courbe d'amélioration des générations d'agents."
   ]
  },
  {
   "cell_type": "code",
   "execution_count": 17,
   "id": "79b24b9f",
   "metadata": {},
   "outputs": [],
   "source": [
    "def geneticAlgorithmPlot(population, popSize, eliteSize, mutationRate, generations):\n",
    "    pop = initialPopulation(popSize, population)\n",
    "    progress = []\n",
    "    progress.append(1 / rankRoutes(pop)[0][1])\n",
    "    \n",
    "    for i in range(0, generations):\n",
    "        pop = nextGeneration(pop, eliteSize, mutationRate)\n",
    "        progress.append(1 / rankRoutes(pop)[0][1])\n",
    "    \n",
    "    plt.plot(progress)\n",
    "    plt.ylabel('Distance')\n",
    "    plt.xlabel('Generation')\n",
    "    plt.show()"
   ]
  },
  {
   "cell_type": "markdown",
   "id": "e55ae6b5",
   "metadata": {},
   "source": [
    "Courbe détaillant les générations d'agents caractérisés par la distance  minimale qu'ils ont plus obtenir."
   ]
  },
  {
   "cell_type": "code",
   "execution_count": 18,
   "id": "fc33bcc0",
   "metadata": {},
   "outputs": [
    {
     "data": {
      "image/png": "[encoded data removed]",
      "text/plain": [
       "<Figure size 432x288 with 1 Axes>"
      ]
     },
     "metadata": {
      "needs_background": "light"
     },
     "output_type": "display_data"
    }
   ],
   "source": [
    "geneticAlgorithmPlot(population=cityList, popSize=100, eliteSize=20, mutationRate=0.01, generations=500)"
   ]
  }
 ],
 "metadata": {
  "kernelspec": {
   "display_name": "Python 3",
   "language": "python",
   "name": "python3"
  },
  "language_info": {
   "codemirror_mode": {
    "name": "ipython",
    "version": 3
   },
   "file_extension": ".py",
   "mimetype": "text/x-python",
   "name": "python",
   "nbconvert_exporter": "python",
   "pygments_lexer": "ipython3",
   "version": "3.8.8"
  }
 },
 "nbformat": 4,
 "nbformat_minor": 5
}
